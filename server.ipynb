{
 "cells": [
  {
   "cell_type": "code",
   "execution_count": 1,
   "metadata": {},
   "outputs": [],
   "source": [
    "import tensorflow as tf \n",
    "from fastapi import FastAPI, UploadFile, File, HTTPException\n",
    "from pydantic import BaseModel\n",
    "from fastapi.middleware.cors import CORSMiddleware\n",
    "import io\n",
    "import nest_asyncio\n",
    "from predications import *"
   ]
  },
  {
   "cell_type": "code",
   "execution_count": 3,
   "metadata": {},
   "outputs": [
    {
     "name": "stderr",
     "output_type": "stream",
     "text": [
      "WARNING:absl:Compiled the loaded model, but the compiled metrics have yet to be built. `model.compile_metrics` will be empty until you train or evaluate the model.\n",
      "WARNING:absl:Compiled the loaded model, but the compiled metrics have yet to be built. `model.compile_metrics` will be empty until you train or evaluate the model.\n",
      "WARNING:absl:Compiled the loaded model, but the compiled metrics have yet to be built. `model.compile_metrics` will be empty until you train or evaluate the model.\n"
     ]
    }
   ],
   "source": [
    "xry = tf.keras.models.load_model(\"parl.h5\")\n",
    "tmkc = tf.keras.models.load_model(\"model_tumor.h5\")\n",
    "alz = tf.keras.models.load_model(\"alzhimer_model.h5\")"
   ]
  },
  {
   "cell_type": "code",
   "execution_count": 21,
   "metadata": {},
   "outputs": [],
   "source": [
    "users_db = {}\n",
    "app=FastAPI()\n",
    "app.add_middleware(\n",
    "    CORSMiddleware,\n",
    "    allow_origins=[\"*\"],\n",
    "    allow_credentials=True,\n",
    "    allow_headers=[\"*\"],\n",
    "    allow_methods={\"*\"}\n",
    ")\n",
    "\n",
    "class UserSignup(BaseModel):\n",
    "    username: str\n",
    "    password: str\n",
    "\n",
    "class UserLogin(BaseModel):\n",
    "    username: str\n",
    "    password: str\n"
   ]
  },
  {
   "cell_type": "code",
   "execution_count": null,
   "metadata": {},
   "outputs": [],
   "source": [
    "@app.post(\"/signup/\")\n",
    "def signup(user: UserSignup):\n",
    "    if user.username in users_db:\n",
    "        raise HTTPException(status_code=400, detail=\"Username already exists\")\n",
    "    users_db[user.username] = user.password\n",
    "    return {\"message\": \"Signup successful\"}\n",
    "\n",
    "@app.post(\"/login/\")\n",
    "def login(user: UserLogin):\n",
    "    if users_db.get(user.username) != user.password:\n",
    "        raise HTTPException(status_code=400, detail=\"Invalid credentials\")\n",
    "    return {\"message\": \"Login successful\"}\n",
    "\n",
    "@app.post(\"/parlkins\")\n",
    "async def analyze_x_ray(file:UploadFile=File(...)):\n",
    "    contents= await file.read()\n",
    "    prediction = parl(contents,xry)\n",
    "    return prediction\n",
    "\n",
    "@app.post(\"/tumor\")\n",
    "async def analyze_tumor(file:UploadFile=File(...)):\n",
    "    contents= await file.read()\n",
    "    prediction = tumor(contents,tmkc)\n",
    "    return prediction\n",
    "\n",
    "@app.post(\"/alzheimer\")\n",
    "async def analyze_alzheimer(file:UploadFile=File(...)):\n",
    "    contents= await file.read()\n",
    "    prediction = alzheimer(contents,alz)\n",
    "    return prediction\n"
   ]
  },
  {
   "cell_type": "code",
   "execution_count": 23,
   "metadata": {},
   "outputs": [
    {
     "name": "stderr",
     "output_type": "stream",
     "text": [
      "INFO:     Started server process [10064]\n",
      "INFO:     Waiting for application startup.\n",
      "INFO:     Application startup complete.\n",
      "INFO:     Uvicorn running on http://0.0.0.0:5000 (Press CTRL+C to quit)\n"
     ]
    },
    {
     "name": "stdout",
     "output_type": "stream",
     "text": [
      "INFO:     106.193.15.53:0 - \"POST /login/ HTTP/1.1\" 400 Bad Request\n",
      "INFO:     106.193.15.53:0 - \"POST /signup/ HTTP/1.1\" 200 OK\n",
      "INFO:     106.193.15.53:0 - \"POST /login/ HTTP/1.1\" 200 OK\n"
     ]
    },
    {
     "name": "stderr",
     "output_type": "stream",
     "text": [
      "INFO:     Shutting down\n",
      "INFO:     Waiting for application shutdown.\n",
      "INFO:     Application shutdown complete.\n",
      "INFO:     Finished server process [10064]\n"
     ]
    }
   ],
   "source": [
    "nest_asyncio.apply()\n",
    "if __name__ ==\"__main__\":\n",
    "    import uvicorn\n",
    "    uvicorn.run(app,host=\"0.0.0.0\",port=5000)"
   ]
  },
  {
   "cell_type": "code",
   "execution_count": null,
   "metadata": {},
   "outputs": [],
   "source": []
  }
 ],
 "metadata": {
  "kernelspec": {
   "display_name": "Python 3",
   "language": "python",
   "name": "python3"
  },
  "language_info": {
   "codemirror_mode": {
    "name": "ipython",
    "version": 3
   },
   "file_extension": ".py",
   "mimetype": "text/x-python",
   "name": "python",
   "nbconvert_exporter": "python",
   "pygments_lexer": "ipython3",
   "version": "3.12.7"
  }
 },
 "nbformat": 4,
 "nbformat_minor": 2
}
