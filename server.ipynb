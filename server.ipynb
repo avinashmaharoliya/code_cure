{
 "cells": [
  {
   "cell_type": "code",
   "execution_count": 1,
   "metadata": {},
   "outputs": [],
   "source": [
    "import tensorflow as tf \n",
    "from fastapi import FastAPI, UploadFile, File, HTTPException\n",
    "from fastapi.responses import FileResponse\n",
    "from pydantic import BaseModel\n",
    "from fastapi.middleware.cors import CORSMiddleware\n",
    "import io\n",
    "import nest_asyncio\n",
    "from predications import *\n",
    "import shutil\n",
    "import os "
   ]
  },
  {
   "cell_type": "code",
   "execution_count": 2,
   "metadata": {},
   "outputs": [
    {
     "name": "stderr",
     "output_type": "stream",
     "text": [
      "WARNING:absl:Compiled the loaded model, but the compiled metrics have yet to be built. `model.compile_metrics` will be empty until you train or evaluate the model.\n",
      "WARNING:absl:Compiled the loaded model, but the compiled metrics have yet to be built. `model.compile_metrics` will be empty until you train or evaluate the model.\n"
     ]
    }
   ],
   "source": [
    "tmkc = tf.keras.models.load_model(\"model_tumor.h5\")\n",
    "alzhimer = tf.keras.models.load_model(\"alzhimer_model.h5\")"
   ]
  },
  {
   "cell_type": "code",
   "execution_count": 3,
   "metadata": {},
   "outputs": [],
   "source": [
    "users_db = {}\n",
    "app=FastAPI()\n",
    "app.add_middleware(\n",
    "    CORSMiddleware,\n",
    "    allow_origins=[\"*\"],\n",
    "    allow_credentials=True,\n",
    "    allow_headers=[\"*\"],\n",
    "    allow_methods={\"*\"}\n",
    ")\n",
    "\n"
   ]
  },
  {
   "cell_type": "code",
   "execution_count": 4,
   "metadata": {},
   "outputs": [],
   "source": [
    "\n",
    "@app.post(\"/tumor\")\n",
    "async def analyze_tumor(file:UploadFile=File(...)):\n",
    "    contents= await file.read()\n",
    "    os.makedirs(\"saved_images\", exist_ok=True)\n",
    "\n",
    "    save_path = os.path.join(\"saved_images\", file.filename)\n",
    "\n",
    "    with open(save_path, \"wb\") as f:\n",
    "        f.write(contents)\n",
    "\n",
    "    \n",
    "\n",
    "    prediction = tumor(contents,tmkc,file.filename)\n",
    "    \n",
    "    file_path = \"tumor.pdf\"  \n",
    "    if os.path.exists(file_path):\n",
    "        return FileResponse(path=file_path, media_type='application/pdf', filename=\"report.pdf\")\n",
    "    else:\n",
    "        return {\"error\": \"File not found\"}"
   ]
  },
  {
   "cell_type": "code",
   "execution_count": 5,
   "metadata": {},
   "outputs": [],
   "source": [
    "@app.post(\"/alz\")\n",
    "async def analyze_tumor(file:UploadFile=File(...)):\n",
    "    contents= await file.read()\n",
    "    os.makedirs(\"saved_images\", exist_ok=True)\n",
    "\n",
    "    save_path = os.path.join(\"saved_images\", file.filename)\n",
    "\n",
    "    with open(save_path, \"wb\") as f:\n",
    "        f.write(contents)\n",
    "\n",
    "    \n",
    "\n",
    "    prediction = alz(contents,alzhimer,file.filename)\n",
    "    \n",
    "    file_path = \"alzhmier.pdf\"  \n",
    "    if os.path.exists(file_path):\n",
    "        return FileResponse(path=file_path, media_type='application/pdf', filename=\"report.pdf\")\n",
    "    else:\n",
    "        return {\"error\": \"File not found\"}"
   ]
  },
  {
   "cell_type": "code",
   "execution_count": null,
   "metadata": {},
   "outputs": [
    {
     "name": "stderr",
     "output_type": "stream",
     "text": [
      "INFO:     Started server process [21588]\n",
      "INFO:     Waiting for application startup.\n",
      "INFO:     Application startup complete.\n",
      "INFO:     Uvicorn running on http://0.0.0.0:8000 (Press CTRL+C to quit)\n"
     ]
    },
    {
     "name": "stdout",
     "output_type": "stream",
     "text": [
      "\u001b[1m1/1\u001b[0m \u001b[32m━━━━━━━━━━━━━━━━━━━━\u001b[0m\u001b[37m\u001b[0m \u001b[1m1s\u001b[0m 934ms/step\n",
      "Image with grid saved at grid_imt.jpg\n",
      "Centered image PDF saved as tumor.pdf\n",
      "\u001b[1m1/1\u001b[0m \u001b[32m━━━━━━━━━━━━━━━━━━━━\u001b[0m\u001b[37m\u001b[0m \u001b[1m0s\u001b[0m 124ms/step\n",
      "Image with grid saved at grid_imt.jpg\n",
      "Centered image PDF saved as tumor.pdf\n",
      "INFO:     103.148.1.82:0 - \"POST /tumor HTTP/1.1\" 200 OK\n",
      "INFO:     103.148.1.82:0 - \"POST /tumor HTTP/1.1\" 200 OK\n"
     ]
    }
   ],
   "source": [
    "nest_asyncio.apply()\n",
    "if __name__ ==\"__main__\":\n",
    "    import uvicorn\n",
    "    uvicorn.run(app,host=\"0.0.0.0\",port=8000)"
   ]
  },
  {
   "cell_type": "code",
   "execution_count": null,
   "metadata": {},
   "outputs": [],
   "source": []
  },
  {
   "cell_type": "code",
   "execution_count": null,
   "metadata": {},
   "outputs": [],
   "source": []
  }
 ],
 "metadata": {
  "kernelspec": {
   "display_name": "Python 3",
   "language": "python",
   "name": "python3"
  },
  "language_info": {
   "codemirror_mode": {
    "name": "ipython",
    "version": 3
   },
   "file_extension": ".py",
   "mimetype": "text/x-python",
   "name": "python",
   "nbconvert_exporter": "python",
   "pygments_lexer": "ipython3",
   "version": "3.12.7"
  }
 },
 "nbformat": 4,
 "nbformat_minor": 2
}
